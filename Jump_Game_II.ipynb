{
 "cells": [
  {
   "cell_type": "markdown",
   "metadata": {},
   "source": [
    "# 45. Jump Game II"
   ]
  },
  {
   "cell_type": "markdown",
   "metadata": {},
   "source": [
    "\n",
    "You are given a 0-indexed array of integers nums of length n. You are initially positioned at nums[0].\n",
    "\n",
    "Each element nums[i] represents the maximum length of a forward jump from index i. In other words, if you are at nums[i], you can jump to any nums[i + j] where:\n",
    "\n",
    "0 <= j <= nums[i] and\n",
    "i + j < n\n",
    "\n",
    "Return the minimum number of jumps to reach nums[n - 1]. The test cases are generated such that you can reach nums[n - 1]."
   ]
  },
  {
   "cell_type": "markdown",
   "metadata": {},
   "source": [
    "Example 1:\n",
    "\n",
    "Input: nums = [2,3,1,1,4]\n",
    "\n",
    "Output: 2\n",
    "\n",
    "Explanation: The minimum number of jumps to reach the last index is 2. Jump 1 step from index 0 to 1, then 3 steps to the last index.\n"
   ]
  },
  {
   "cell_type": "markdown",
   "metadata": {},
   "source": [
    "\n",
    "Example 2:\n",
    "\n",
    "Input: nums = [2,3,0,1,4]\n",
    "\n",
    "Output: 2"
   ]
  },
  {
   "cell_type": "markdown",
   "metadata": {},
   "source": [
    "## basic ideas"
   ]
  },
  {
   "cell_type": "markdown",
   "metadata": {},
   "source": [
    "the basic ideas are similar to 55.Jump Game I:\n",
    "\n",
    "since we are not forced to jump the exact nums[i] steps, so for each position of the nums list, what we can get is a range which represents all the places we can get next time once we arrive the current place.\n",
    "\n",
    "For example, nums = [2,3,1,1,4]\n",
    "\n",
    "when we are at position == 0, where we are able to get in the first jump is [0+1, 0+nums[0]] which is [1,2] (including both sides).\n"
   ]
  },
  {
   "cell_type": "markdown",
   "metadata": {},
   "source": [
    "So the idea becomes: \n",
    "\n",
    "1. we check every elements in the list from index == 0 and record the rightmost place we are able to get. (actually the left side is unnecessary). Although we record the farthest place we can get, we don't direcly update the **current state** because we are not sure if the optimal solution in the next jump is found. So we could use currentfar and nextfar to respectively record the farthest place in the current jump and the potential fathest place in the next jump.\n",
    "\n",
    "For example:\n",
    "for the nums = [2,2,2,1,4], we begin at nums[0], the current farthest place is nums[0] + 0 which is index == 2\n",
    "\n",
    "When we check the next element, we find that the potential fathest place in the next step would be nums[1] + 1 which is index == 3\n",
    "\n",
    "we **should not** directly count++ or update the currentfar because we are not sure that if a better solution would appear then.(actually the 3rd element is the optimal solution and it would exactly help us to get to the last place drectly)\n",
    "\n",
    "\n",
    "2. So when should we update the count and the currentfar? Once we get the currentfar but it doesn't cover the last position yet, we need to update the step count and the currentfar. That means, in this jump, we are doomed to fail(to get to the last position), so we have to jump another time anyway. So we add 1 to the step count, and update the currentfar to the potential nextfar which we record before. We should notice that once we update the currentfar, we need to check if it contains the last place, if so, we could directy return step count.\n",
    "\n"
   ]
  },
  {
   "cell_type": "code",
   "execution_count": 1,
   "metadata": {},
   "outputs": [],
   "source": [
    "# nums = [2,3,1,1,4]\n",
    "def JumpGame2(nums:list):\n",
    "    # handle the special case:\n",
    "    if len(nums) == 1:\n",
    "        return 0\n",
    "    currentfar = 0\n",
    "    step = 0\n",
    "    nextfar = 0\n",
    "    for i in range(len(nums)):\n",
    "        nextfar = max(nextfar, nums[i]+i)\n",
    "        # fail to get the answer! we have to jump another time!\n",
    "        if i == currentfar:\n",
    "            step+=1\n",
    "            currentfar = nextfar\n",
    "        if len(nums) - 1 <= currentfar:\n",
    "            return step\n",
    "    "
   ]
  },
  {
   "cell_type": "code",
   "execution_count": 2,
   "metadata": {},
   "outputs": [
    {
     "data": {
      "text/plain": [
       "2"
      ]
     },
     "execution_count": 2,
     "metadata": {},
     "output_type": "execute_result"
    }
   ],
   "source": [
    "JumpGame2([2,3,1,1,4])"
   ]
  },
  {
   "cell_type": "code",
   "execution_count": 3,
   "metadata": {},
   "outputs": [
    {
     "name": "stdout",
     "output_type": "stream",
     "text": [
      "2\n"
     ]
    }
   ],
   "source": [
    "# directly input the elements with sep =','\n",
    "# DO NOT input the brackets!!!\n",
    "nums = input().split(',')\n",
    "\n",
    "validnums = [int(nums[i]) for i in range(len(nums))]\n",
    "print(JumpGame2(validnums))"
   ]
  },
  {
   "cell_type": "code",
   "execution_count": null,
   "metadata": {},
   "outputs": [],
   "source": []
  }
 ],
 "metadata": {
  "kernelspec": {
   "display_name": "base",
   "language": "python",
   "name": "python3"
  },
  "language_info": {
   "codemirror_mode": {
    "name": "ipython",
    "version": 3
   },
   "file_extension": ".py",
   "mimetype": "text/x-python",
   "name": "python",
   "nbconvert_exporter": "python",
   "pygments_lexer": "ipython3",
   "version": "3.12.4"
  }
 },
 "nbformat": 4,
 "nbformat_minor": 2
}
